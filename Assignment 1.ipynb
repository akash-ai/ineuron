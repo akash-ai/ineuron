{
 "cells": [
  {
   "cell_type": "markdown",
   "metadata": {},
   "source": [
    "**Q.1.**"
   ]
  },
  {
   "cell_type": "code",
   "execution_count": 2,
   "metadata": {},
   "outputs": [
    {
     "name": "stdout",
     "output_type": "stream",
     "text": [
      "Hello Akash\n"
     ]
    }
   ],
   "source": [
    "print('Hello Akash')"
   ]
  },
  {
   "cell_type": "markdown",
   "metadata": {},
   "source": [
    "**Q.2.**"
   ]
  },
  {
   "cell_type": "code",
   "execution_count": 13,
   "metadata": {},
   "outputs": [
    {
     "name": "stdout",
     "output_type": "stream",
     "text": [
      "Numbers from 2000 to 3200 which are divisible by 7 but not 5 are as follows: \n",
      "2007\n",
      "2014\n",
      "2021\n",
      "2028\n",
      "2042\n",
      "2049\n",
      "2056\n",
      "2063\n",
      "2077\n",
      "2084\n",
      "2091\n",
      "2098\n",
      "2112\n",
      "2119\n",
      "2126\n",
      "2133\n",
      "2147\n",
      "2154\n",
      "2161\n",
      "2168\n",
      "2182\n",
      "2189\n",
      "2196\n",
      "2203\n",
      "2217\n",
      "2224\n",
      "2231\n",
      "2238\n",
      "2252\n",
      "2259\n",
      "2266\n",
      "2273\n",
      "2287\n",
      "2294\n",
      "2301\n",
      "2308\n",
      "2322\n",
      "2329\n",
      "2336\n",
      "2343\n",
      "2357\n",
      "2364\n",
      "2371\n",
      "2378\n",
      "2392\n",
      "2399\n",
      "2406\n",
      "2413\n",
      "2427\n",
      "2434\n",
      "2441\n",
      "2448\n",
      "2462\n",
      "2469\n",
      "2476\n",
      "2483\n",
      "2497\n",
      "2504\n",
      "2511\n",
      "2518\n",
      "2532\n",
      "2539\n",
      "2546\n",
      "2553\n",
      "2567\n",
      "2574\n",
      "2581\n",
      "2588\n",
      "2602\n",
      "2609\n",
      "2616\n",
      "2623\n",
      "2637\n",
      "2644\n",
      "2651\n",
      "2658\n",
      "2672\n",
      "2679\n",
      "2686\n",
      "2693\n",
      "2707\n",
      "2714\n",
      "2721\n",
      "2728\n",
      "2742\n",
      "2749\n",
      "2756\n",
      "2763\n",
      "2777\n",
      "2784\n",
      "2791\n",
      "2798\n",
      "2812\n",
      "2819\n",
      "2826\n",
      "2833\n",
      "2847\n",
      "2854\n",
      "2861\n",
      "2868\n",
      "2882\n",
      "2889\n",
      "2896\n",
      "2903\n",
      "2917\n",
      "2924\n",
      "2931\n",
      "2938\n",
      "2952\n",
      "2959\n",
      "2966\n",
      "2973\n",
      "2987\n",
      "2994\n",
      "3001\n",
      "3008\n",
      "3022\n",
      "3029\n",
      "3036\n",
      "3043\n",
      "3057\n",
      "3064\n",
      "3071\n",
      "3078\n",
      "3092\n",
      "3099\n",
      "3106\n",
      "3113\n",
      "3127\n",
      "3134\n",
      "3141\n",
      "3148\n",
      "3162\n",
      "3169\n",
      "3176\n",
      "3183\n",
      "3197\n",
      "total numbers are: 137\n"
     ]
    }
   ],
   "source": [
    "print(\"Numbers from 2000 to 3200 which are divisible by 7 but not 5 are as follows: \")\n",
    "count = 0\n",
    "for i in range(2000,3200,7):\n",
    "    if i%5 != 0:\n",
    "        print(i)\n",
    "        count += 1\n",
    "print('total numbers are:', count)"
   ]
  },
  {
   "cell_type": "markdown",
   "metadata": {},
   "source": [
    "**Q.3.**"
   ]
  },
  {
   "cell_type": "code",
   "execution_count": 23,
   "metadata": {},
   "outputs": [
    {
     "name": "stdout",
     "output_type": "stream",
     "text": [
      "write your first name Akash\n",
      "write your last name Sahoo\n",
      "hsakA oohaS\n"
     ]
    }
   ],
   "source": [
    "first = input(\"write your first name \")\n",
    "last = input(\"write your last name \")\n",
    "print(first[-1:-(len(first)+1):-1] + \" \"+ last[-1:-(len(last)+1):-1])\n"
   ]
  },
  {
   "cell_type": "markdown",
   "metadata": {},
   "source": [
    "**Q.4.**"
   ]
  },
  {
   "cell_type": "code",
   "execution_count": 42,
   "metadata": {},
   "outputs": [
    {
     "name": "stdout",
     "output_type": "stream",
     "text": [
      "Enter your diameter to calculate its volumne: 12\n",
      "Volumne of a sphere is:  904.7786842338603\n"
     ]
    }
   ],
   "source": [
    "import math\n",
    "diameter = float(input(\"Enter your diameter to calculate its volumne: \"))\n",
    "volume = float((4/3) * math.pi * ((diameter/2)**3))\n",
    "\n",
    "print('Volumne of a sphere is: ', volume)"
   ]
  },
  {
   "cell_type": "markdown",
   "metadata": {},
   "source": [
    "# PART-2"
   ]
  },
  {
   "cell_type": "markdown",
   "metadata": {},
   "source": [
    "**Q.1**"
   ]
  },
  {
   "cell_type": "code",
   "execution_count": 10,
   "metadata": {},
   "outputs": [
    {
     "name": "stdout",
     "output_type": "stream",
     "text": [
      "enter your series: 1,2,3,4,5,6,7\n",
      "[1, 2, 3, 4, 5, 6, 7]\n"
     ]
    }
   ],
   "source": [
    "input_numbers = input('enter your series: ').split(sep = ',')\n",
    "final = []\n",
    "for i in input_numbers:\n",
    "    final.append(int(i))\n",
    "\n",
    "print(final)"
   ]
  },
  {
   "cell_type": "markdown",
   "metadata": {},
   "source": [
    "**Q.2.**"
   ]
  },
  {
   "cell_type": "code",
   "execution_count": 44,
   "metadata": {},
   "outputs": [
    {
     "name": "stdout",
     "output_type": "stream",
     "text": [
      "* \r\n",
      "* * \r\n",
      "* * * \r\n",
      "* * * * \r\n",
      "* * * * * \r\n",
      "* * * * * * \r\n",
      "* * * * * \r\n",
      "* * * * \r\n",
      "* * * \r\n",
      "* * \r\n",
      "*\n"
     ]
    }
   ],
   "source": [
    "for i in range (0,5):\n",
    "    for j in range(0, i+1):\n",
    "        print(\"* \", end= \"\")\n",
    "    print(\"\\r\")\n",
    "for i in range(5,0,-1):\n",
    "    for j in range(0, i+1):\n",
    "        print(\"* \", end=\"\")\n",
    "    print(\"\\r\")\n",
    "print(\"*\")"
   ]
  },
  {
   "cell_type": "markdown",
   "metadata": {},
   "source": [
    "**Q.3.**"
   ]
  },
  {
   "cell_type": "code",
   "execution_count": 47,
   "metadata": {},
   "outputs": [
    {
     "name": "stdout",
     "output_type": "stream",
     "text": [
      "Input Word: AkasH\n",
      "Output Word:  HsakA\n"
     ]
    }
   ],
   "source": [
    "input_word =  input(\"Input Word: \")\n",
    "output = input_word[-1: -(len(input_word) + 1): -1]\n",
    "print(\"Output Word: \", output)"
   ]
  },
  {
   "cell_type": "markdown",
   "metadata": {},
   "source": [
    "**Q.4.**"
   ]
  },
  {
   "cell_type": "code",
   "execution_count": 49,
   "metadata": {},
   "outputs": [
    {
     "name": "stdout",
     "output_type": "stream",
     "text": [
      "WE, THE PEOPLE OF INDIA,\n",
      " \t having solemly resolved to constitute India into a SOVEREIGN,! \n",
      " \t \t SOCIALIST, SECULAR, DEMOCARTIC REPUBLIC \n",
      "\t\t and to secure to all its citizens.\n"
     ]
    }
   ],
   "source": [
    "print(\"WE, THE PEOPLE OF INDIA,\\n \\t having solemly resolved to constitute India into a SOVEREIGN,! \\n \\t \\t SOCIALIST, SECULAR, DEMOCARTIC REPUBLIC \\n\\t\\t and to secure to all its citizens.\")"
   ]
  },
  {
   "cell_type": "markdown",
   "metadata": {},
   "source": [
    "**THE END**"
   ]
  }
 ],
 "metadata": {
  "kernelspec": {
   "display_name": "Python 3",
   "language": "python",
   "name": "python3"
  },
  "language_info": {
   "codemirror_mode": {
    "name": "ipython",
    "version": 3
   },
   "file_extension": ".py",
   "mimetype": "text/x-python",
   "name": "python",
   "nbconvert_exporter": "python",
   "pygments_lexer": "ipython3",
   "version": "3.7.6"
  }
 },
 "nbformat": 4,
 "nbformat_minor": 4
}

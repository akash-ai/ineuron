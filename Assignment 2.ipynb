{
 "cells": [
  {
   "cell_type": "markdown",
   "metadata": {},
   "source": [
    "# TASK 1"
   ]
  },
  {
   "cell_type": "markdown",
   "metadata": {},
   "source": [
    "**Q. 1.1**"
   ]
  },
  {
   "cell_type": "code",
   "execution_count": 1,
   "metadata": {},
   "outputs": [],
   "source": [
    "#doing aggregate sum from the list.\n",
    "l = [56,72,48,12,35,62,1,22,3,4]\n",
    "\n",
    "def myreduce(l):\n",
    "    sum = 0\n",
    "    for i in l:\n",
    "        sum += i\n",
    "    return sum"
   ]
  },
  {
   "cell_type": "code",
   "execution_count": 2,
   "metadata": {},
   "outputs": [
    {
     "data": {
      "text/plain": [
       "315"
      ]
     },
     "execution_count": 2,
     "metadata": {},
     "output_type": "execute_result"
    }
   ],
   "source": [
    "myreduce(l)"
   ]
  },
  {
   "cell_type": "markdown",
   "metadata": {},
   "source": [
    "**Q 1.2**"
   ]
  },
  {
   "cell_type": "code",
   "execution_count": 3,
   "metadata": {},
   "outputs": [],
   "source": [
    "#filter option example: to filter out all prime numbers from the list.\n",
    "num = [12,45,577,7,9,3,2,6,10041,1023,72,54,73,71,89, 1069, 1223, 244]\n",
    "prime = []\n",
    "def myfilter(num):\n",
    "    for j in num:\n",
    "        for i in range(2,j):\n",
    "            if j%i == 0:\n",
    "                break\n",
    "        else:\n",
    "            prime.append(j)\n",
    "    return prime         "
   ]
  },
  {
   "cell_type": "code",
   "execution_count": 4,
   "metadata": {},
   "outputs": [
    {
     "data": {
      "text/plain": [
       "[577, 7, 3, 2, 73, 71, 89, 1069, 1223]"
      ]
     },
     "execution_count": 4,
     "metadata": {},
     "output_type": "execute_result"
    }
   ],
   "source": [
    "myfilter(num) #prime numbers"
   ]
  },
  {
   "cell_type": "markdown",
   "metadata": {},
   "source": [
    "**Q. 2**"
   ]
  },
  {
   "cell_type": "code",
   "execution_count": 5,
   "metadata": {},
   "outputs": [
    {
     "data": {
      "text/plain": [
       "['A', 'C', 'A', 'D', 'G', 'I', 'L', 'D']"
      ]
     },
     "execution_count": 5,
     "metadata": {},
     "output_type": "execute_result"
    }
   ],
   "source": [
    "[i for i in \"ACADGILD\"]"
   ]
  },
  {
   "cell_type": "code",
   "execution_count": 6,
   "metadata": {},
   "outputs": [],
   "source": [
    "a = 'x'\n",
    "b = 'y'\n",
    "c = 'z'\n",
    "d = []\n",
    "i,j,k = 1,1,1\n",
    "while i<=4:\n",
    "    d.append(a*i)\n",
    "    i +=1\n",
    "while j<=4:\n",
    "    d.append(b*j)\n",
    "    j +=1\n",
    "while k<=4:\n",
    "    d.append(c*k)\n",
    "    k +=1"
   ]
  },
  {
   "cell_type": "code",
   "execution_count": 7,
   "metadata": {},
   "outputs": [
    {
     "data": {
      "text/plain": [
       "['x', 'xx', 'xxx', 'xxxx', 'y', 'yy', 'yyy', 'yyyy', 'z', 'zz', 'zzz', 'zzzz']"
      ]
     },
     "execution_count": 7,
     "metadata": {},
     "output_type": "execute_result"
    }
   ],
   "source": [
    "d"
   ]
  },
  {
   "cell_type": "code",
   "execution_count": 8,
   "metadata": {},
   "outputs": [
    {
     "data": {
      "text/plain": [
       "['x', 'y', 'z', 'xx', 'yy', 'zz', 'xxx', 'yyy', 'zzz', 'xxxx', 'yyyy', 'zzzz']"
      ]
     },
     "execution_count": 8,
     "metadata": {},
     "output_type": "execute_result"
    }
   ],
   "source": [
    "temp = d #copied into a new variable\n",
    "f1 = [] #consists of length=1 strings\n",
    "f2 = [] #consists of length=2 strings\n",
    "f3 = [] #consists of length=3 strings\n",
    "f4 = [] #consists of length=4 strings\n",
    "j = 0\n",
    "while j < len(temp):\n",
    "    if len(temp[j]) == 1:\n",
    "        f1.append(temp[j])\n",
    "        j +=1\n",
    "    elif len(temp[j]) == 2:\n",
    "        f2.append(temp[j])\n",
    "        j +=1\n",
    "    elif len(temp[j]) == 3:\n",
    "        f3.append(temp[j])\n",
    "        j +=1\n",
    "    else:\n",
    "        f4.append(temp[j])\n",
    "        j +=1\n",
    "        \n",
    "f1+f2+f3+f4 #final list concatenation"
   ]
  },
  {
   "cell_type": "markdown",
   "metadata": {},
   "source": [
    "**Q. 3**"
   ]
  },
  {
   "cell_type": "code",
   "execution_count": 9,
   "metadata": {},
   "outputs": [
    {
     "name": "stdout",
     "output_type": "stream",
     "text": [
      "Enter different words with ',' separator: abc,elon musk, akash\n",
      "The list of words that you have created:  ['abc', 'elon musk', ' akash']\n",
      "The longest word from the entered list is: elon musk\n"
     ]
    }
   ],
   "source": [
    "z = input(\"Enter different words with ',' separator: \")\n",
    "z = z.split(sep=\",\")\n",
    "print(\"The list of words that you have created: \",z)\n",
    "\n",
    "def longestWord(z):\n",
    "    print(max(z, key = len))\n",
    "\n",
    "print(\"The longest word from the entered list is: \", end=\"\")\n",
    "longestWord(z)"
   ]
  },
  {
   "cell_type": "markdown",
   "metadata": {},
   "source": [
    "# TASK 2"
   ]
  },
  {
   "cell_type": "markdown",
   "metadata": {},
   "source": [
    "**Q. 1.1**"
   ]
  },
  {
   "cell_type": "code",
   "execution_count": 31,
   "metadata": {},
   "outputs": [],
   "source": [
    "class Area:\n",
    "    \n",
    "    def __init__(self, a, b, c):\n",
    "        self.a = a\n",
    "        self.b = b\n",
    "        self.c = c\n",
    "        \n",
    "class Areaoftriangle(Area):\n",
    "    \n",
    "    def __init__(self,*args):\n",
    "        \n",
    "        super(Areaoftriangle, self).__init__(*args) #getting all the parameters\n",
    "        s = (self.a+self.b+self.c)/2\n",
    "        \n",
    "        print((s*(s-self.a)*(s-self.b)*(s-self.c)) ** 0.5)\n",
    "        "
   ]
  },
  {
   "cell_type": "code",
   "execution_count": 34,
   "metadata": {},
   "outputs": [
    {
     "name": "stdout",
     "output_type": "stream",
     "text": [
      "6.0\n"
     ]
    }
   ],
   "source": [
    "triangle = Areaoftriangle(3,4,5)"
   ]
  },
  {
   "cell_type": "markdown",
   "metadata": {},
   "source": [
    "**Q. 1.2**"
   ]
  },
  {
   "cell_type": "code",
   "execution_count": 24,
   "metadata": {},
   "outputs": [
    {
     "name": "stdout",
     "output_type": "stream",
     "text": [
      "enter your words with ',' separated: akash,qwerty,narendra modi,elon musk,idk,hello,dog,cat\n",
      "input list of words:  ['akash', 'qwerty', 'narendra modi', 'elon musk', 'idk', 'hello', 'dog', 'cat']\n",
      "enter your integer n: 3\n",
      "\n",
      "\n",
      "Final list of words greater than len 3\n"
     ]
    },
    {
     "data": {
      "text/plain": [
       "['akash', 'qwerty', 'narendra modi', 'elon musk', 'hello']"
      ]
     },
     "execution_count": 24,
     "metadata": {},
     "output_type": "execute_result"
    }
   ],
   "source": [
    "list_of_words = input(\"enter your words with ',' separated: \")\n",
    "list_of_words = list_of_words.split(sep=',')\n",
    "print(\"input list of words: \", list_of_words)\n",
    "\n",
    "\n",
    "def filter_long_words(n):\n",
    "    m = []\n",
    "    n = int(input(\"enter your integer n: \"))\n",
    "    \n",
    "    for i in range(len(list_of_words)):\n",
    "        \n",
    "        if len(list_of_words[i]) > n:\n",
    "            m.append(list_of_words[i])\n",
    "            i+=1\n",
    "    \n",
    "    print(\"\\n\")\n",
    "    print(\"Final list of words greater than len {}\".format(n))\n",
    "    return m\n",
    "\n",
    "filter_long_words(n)"
   ]
  },
  {
   "cell_type": "markdown",
   "metadata": {},
   "source": [
    "**Q. 2.1**"
   ]
  },
  {
   "cell_type": "code",
   "execution_count": 27,
   "metadata": {},
   "outputs": [
    {
     "name": "stdout",
     "output_type": "stream",
     "text": [
      "enter your words with ',' separated: abcd,efghij,klmnopqr,stuv,wxyz\n",
      "input list of words:  ['abcd', 'efghij', 'klmnopqr', 'stuv', 'wxyz']\n"
     ]
    },
    {
     "data": {
      "text/plain": [
       "[4, 6, 8, 4, 4]"
      ]
     },
     "execution_count": 27,
     "metadata": {},
     "output_type": "execute_result"
    }
   ],
   "source": [
    "list_words = input(\"enter your words with ',' separated: \")\n",
    "list_words = list_words.split(sep=',')\n",
    "print(\"input list of words: \", list_words)\n",
    "\n",
    "result = []\n",
    "def filter_len_words(list_words):\n",
    "    \n",
    "    for i in range(len(list_words)):\n",
    "        result.append(len(list_words[i]))\n",
    "        i+= 1\n",
    "    \n",
    "    return result\n",
    "\n",
    "filter_len_words(list_words)"
   ]
  },
  {
   "cell_type": "markdown",
   "metadata": {},
   "source": [
    "**Q. 2.2**"
   ]
  },
  {
   "cell_type": "code",
   "execution_count": 32,
   "metadata": {},
   "outputs": [
    {
     "name": "stdout",
     "output_type": "stream",
     "text": [
      "enter your single character: a\n"
     ]
    },
    {
     "data": {
      "text/plain": [
       "True"
      ]
     },
     "execution_count": 32,
     "metadata": {},
     "output_type": "execute_result"
    }
   ],
   "source": [
    "letter = input(\"enter your single character: \")\n",
    "\n",
    "vowels = ['a', 'e', 'i', 'o', 'u']\n",
    "\n",
    "def check_alphabet(letter):\n",
    "    if len(letter) == 1:\n",
    "        if letter in vowels:\n",
    "            return True\n",
    "        else:\n",
    "            return False\n",
    "    else:\n",
    "        print(\"more than 1 character input found.\")\n",
    "\n",
    "check_alphabet(letter)"
   ]
  },
  {
   "cell_type": "code",
   "execution_count": 34,
   "metadata": {},
   "outputs": [
    {
     "name": "stdout",
     "output_type": "stream",
     "text": [
      "enter your single character: bd\n",
      "more than 1 character input found.\n"
     ]
    }
   ],
   "source": [
    "check_alphabet(input(\"enter your single character: \"))"
   ]
  },
  {
   "cell_type": "code",
   "execution_count": 35,
   "metadata": {},
   "outputs": [
    {
     "name": "stdout",
     "output_type": "stream",
     "text": [
      "enter your single character: z\n"
     ]
    },
    {
     "data": {
      "text/plain": [
       "False"
      ]
     },
     "execution_count": 35,
     "metadata": {},
     "output_type": "execute_result"
    }
   ],
   "source": [
    "check_alphabet(input(\"enter your single character: \"))"
   ]
  },
  {
   "cell_type": "markdown",
   "metadata": {},
   "source": [
    "**THE END**"
   ]
  }
 ],
 "metadata": {
  "kernelspec": {
   "display_name": "Python 3",
   "language": "python",
   "name": "python3"
  },
  "language_info": {
   "codemirror_mode": {
    "name": "ipython",
    "version": 3
   },
   "file_extension": ".py",
   "mimetype": "text/x-python",
   "name": "python",
   "nbconvert_exporter": "python",
   "pygments_lexer": "ipython3",
   "version": "3.7.6"
  }
 },
 "nbformat": 4,
 "nbformat_minor": 4
}
